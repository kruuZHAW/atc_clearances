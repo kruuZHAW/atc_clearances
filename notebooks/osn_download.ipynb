{
 "cells": [
  {
   "cell_type": "code",
   "execution_count": 1,
   "id": "0f683ed5",
   "metadata": {},
   "outputs": [
    {
     "name": "stderr",
     "output_type": "stream",
     "text": [
      "/home/kruu/git_folder/atc_clearences/.venv/lib/python3.12/site-packages/tqdm/auto.py:21: TqdmWarning: IProgress not found. Please update jupyter and ipywidgets. See https://ipywidgets.readthedocs.io/en/stable/user_install.html\n",
      "  from .autonotebook import tqdm as notebook_tqdm\n"
     ]
    }
   ],
   "source": [
    "import os\n",
    "from datetime import datetime, timedelta\n",
    "import pandas as pd\n",
    "from pyopensky.schema import (\n",
    "    IdentificationData4,\n",
    "    PositionData4,\n",
    "    RollcallRepliesData4,\n",
    "    VelocityData4,\n",
    ")\n",
    "from traffic.core import Traffic\n",
    "# from traffic.data.adsb import OpenSky\n",
    "from traffic.data import opensky"
   ]
  },
  {
   "cell_type": "markdown",
   "id": "d8416980",
   "metadata": {},
   "source": [
    "# Download trajectories"
   ]
  },
  {
   "cell_type": "code",
   "execution_count": 3,
   "id": "0ccef4da",
   "metadata": {},
   "outputs": [
    {
     "name": "stdout",
     "output_type": "stream",
     "text": [
      "start:2025-06-15 10:00:00, stop:2025-06-15 10:30:00\n"
     ]
    }
   ],
   "source": [
    "import os\n",
    "import re\n",
    "from datetime import datetime, timedelta\n",
    "\n",
    "filenames = os.listdir(\"./data_EPWA\")\n",
    "times = []\n",
    "\n",
    "for filename in filenames:\n",
    "    match = re.search(r'([A-Za-z]+)-(\\d{1,2})-(\\d{4})-(\\d{4})Z', filename)\n",
    "    if match:\n",
    "        month_str, day, year, time_str = match.groups()\n",
    "        dt = datetime.strptime(f\"{day} {month_str} {year} {time_str}\", \"%d %b %Y %H%M\")\n",
    "        times.append([dt, dt + timedelta(minutes=30)]) # A recording is 30 mins\n",
    "        print(f\"start:{dt}, stop:{dt + timedelta(minutes=30)}\")\n",
    "    else:\n",
    "        print(\"No datetime found.\")"
   ]
  },
  {
   "cell_type": "code",
   "execution_count": 21,
   "id": "1b719f6a",
   "metadata": {},
   "outputs": [
    {
     "name": "stdout",
     "output_type": "stream",
     "text": [
      "Get raw message from the OpenSky Trino database.\n",
      "\n",
      "You may pass requests based on time ranges, callsigns, aircraft, areas,\n",
      "serial numbers for receivers, or airports of departure or arrival.\n",
      "\n",
      "The method builds appropriate SQL requests, caches results and formats\n",
      "data into a proper pandas DataFrame. Requests are split by hour (by\n",
      "default) in case the connection fails.\n",
      "\n",
      "\n",
      ":param start: a string (default to UTC), epoch or datetime (native\n",
      "    Python or pandas)\n",
      ":param stop: a string (default to UTC), epoch or datetime (native Python\n",
      "    or pandas), *by default, one day after start*\n",
      ":param date_delta: a timedelta representing how to split the requests,\n",
      "    *by default: per hour*\n",
      "\n",
      "More arguments to filter resulting data:\n",
      "\n",
      ":param callsign: a string or a list of strings (wildcards\n",
      "    accepted, _ for any character, % for any sequence of characters);\n",
      ":param icao24: a string or a list of strings identifying the transponder\n",
      "    code of the aircraft;\n",
      ":param serials: an integer or a list of integers identifying the sensors\n",
      "    receiving the data;\n",
      ":param bounds: sets a geographical footprint. Either an **airspace or\n",
      "    shapely shape** (requires the bounds attribute); or a **tuple of\n",
      "    float** (west, south, east, north);\n",
      "\n",
      "**Airports**\n",
      "\n",
      "The following options build more complicated requests by merging\n",
      "information from two tables in the Trino database, resp.\n",
      "``rollcall_replies_data4`` and ``flights_data4``.\n",
      "\n",
      ":param departure_airport: a string for the ICAO identifier of the\n",
      "    airport. Selects flights departing from the airport between the two\n",
      "    timestamps;\n",
      ":param arrival_airport: a string for the ICAO identifier of the airport.\n",
      "    Selects flights arriving at the airport between the two timestamps;\n",
      ":param airport: a string for the ICAO identifier of the airport. Selects\n",
      "    flights departing from or arriving at the airport between the two\n",
      "    timestamps;\n",
      "\n",
      ".. warning::\n",
      "\n",
      "    - If both departure_airport and arrival_airport are set, requested\n",
      "      timestamps match the arrival time;\n",
      "    - If airport is set, departure_airport and arrival_airport cannot be\n",
      "      specified (a RuntimeException is raised).\n",
      "    - It is not possible at the moment to filter both on airports and on\n",
      "      geographical bounds (help welcome!).\n",
      "\n",
      "**Useful options for debug**\n",
      "\n",
      ":param cached: (default: True) switch to False to force a new request to\n",
      "    the database regardless of the cached files. This option also\n",
      "    deletes previous cache files;\n",
      ":param compress: (default: False) compress cache files. Reduces disk\n",
      "    space occupied at the expense of slightly increased time\n",
      "    to load.\n",
      ":param limit: maximum number of records requested, LIMIT keyword in SQL.\n",
      "\n",
      "\n"
     ]
    }
   ],
   "source": [
    "print(opensky.rawdata.__doc__)"
   ]
  },
  {
   "cell_type": "code",
   "execution_count": 14,
   "id": "6913055c",
   "metadata": {},
   "outputs": [],
   "source": [
    "icao_EPWA = opensky.rawdata(\n",
    "                times[0][0],\n",
    "                times[0][1],\n",
    "                arrival_airport=\"EPWA\",\n",
    "                Table=PositionData4,\n",
    "            ).data.icao24.unique()"
   ]
  },
  {
   "cell_type": "code",
   "execution_count": 5,
   "id": "59ef30b1",
   "metadata": {},
   "outputs": [
    {
     "data": {
      "text/plain": [
       "<ArrowExtensionArray>\n",
       "['48af0d', '495278', '4bb4e7', '48ac80', '48ad83', '48ad10', '484fdf',\n",
       " '4d200d', '48ae20', '489788', '471fa1', '471f32', '4d24d6', '48ada1',\n",
       " '48ae80', '48ad80', '896382', '5082ef', '48ae82', '48ae01', '48ad0b',\n",
       " '48cb15', '48ae26', '48ad0d', '48ad00', '48af11', '4891b4', '06a0b1',\n",
       " '48ada8', '48af0f', '48af01', '896112', '4a8199', '45216a', '48c10e',\n",
       " '489789', '489786', '43ea72', '48978a', '48ac81', '48af12', '48ae85',\n",
       " '48ad86', '3c65d6']\n",
       "Length: 44, dtype: string[pyarrow]"
      ]
     },
     "execution_count": 5,
     "metadata": {},
     "output_type": "execute_result"
    }
   ],
   "source": [
    "icao_EPWA"
   ]
  },
  {
   "cell_type": "code",
   "execution_count": 8,
   "id": "69ab1d65",
   "metadata": {},
   "outputs": [
    {
     "name": "stderr",
     "output_type": "stream",
     "text": [
      "RUNNING: : 42.7% [00:13, 3.26%/s]\n",
      "DOWNLOAD: 62.5klines [00:02, 22.9klines/s]\n"
     ]
    }
   ],
   "source": [
    "t_epwa = opensky.history(\n",
    "    times[0][0],\n",
    "    times[0][1],\n",
    "    arrival_airport = \"EPWA\"\n",
    ")"
   ]
  },
  {
   "cell_type": "code",
   "execution_count": 12,
   "id": "b6065f95",
   "metadata": {},
   "outputs": [
    {
     "data": {
      "text/plain": [
       "<ArrowExtensionArray>\n",
       "['LOT6568', 'LOT6362',  'LOT2PA',  'LOT8WZ',  'LOT196',  'ABY858',   'LOT6E',\n",
       "  'LOT2CH',  'LOT454',  'LOT266', 'LOT6380',  'LOT6KG',  'LOT3JA',  'LOT2EG',\n",
       " 'WZZ8241',  'MGH871',  'LOT3YM',  'LOT318',  'LOT3EJ',  'LOT48F',  'LOT7RN',\n",
       "    'LOT4',  'KLM75C', 'WZZ17JZ', 'UTN2226', 'LOT6648', 'ENT4862', 'TVP7707',\n",
       " 'WZZ51AH',   'LOT5N',  'WZZ456', 'SEU7834',  'LOT282',  'QTR51V',  'SVF634',\n",
       "  'UAE98X',  'JDI06X',  'LOT3AB',  'LOT6MJ',   'MOCNY',  'LOT3LN',  'LOT672',\n",
       " 'LOT3908',  'DLH2RL']\n",
       "Length: 44, dtype: string[pyarrow]"
      ]
     },
     "execution_count": 12,
     "metadata": {},
     "output_type": "execute_result"
    }
   ],
   "source": [
    "t_epwa.data.callsign.unique()"
   ]
  },
  {
   "cell_type": "markdown",
   "id": "8a8e0781",
   "metadata": {},
   "source": [
    "# Testing EPWA TMA"
   ]
  },
  {
   "cell_type": "code",
   "execution_count": null,
   "id": "be7fafba",
   "metadata": {},
   "outputs": [],
   "source": [
    "from traffic.data import eurofirs\n",
    "\n",
    "eurofirs[\"EPWW\"]"
   ]
  },
  {
   "cell_type": "code",
   "execution_count": null,
   "id": "a4a3ecb2",
   "metadata": {},
   "outputs": [],
   "source": [
    "from traffic.data import opensky, airports\n",
    "from geopy.distance import distance\n",
    "from geopy.point import Point\n",
    "\n",
    "center = Point(airports[\"EPWA\"].latitude, airports[\"EPWA\"].longitude)\n",
    "\n",
    "# Half side of 50 NM box = 25 NM\n",
    "half_side_nm = 50\n",
    "\n",
    "# Move in each cardinal direction\n",
    "north = distance(nautical=half_side_nm).destination(center, bearing=0)\n",
    "south = distance(nautical=half_side_nm).destination(center, bearing=180)\n",
    "east = distance(nautical=half_side_nm).destination(center, bearing=90)\n",
    "west = distance(nautical=half_side_nm).destination(center, bearing=270)\n",
    "\n",
    "# Rectangle bounds\n",
    "lat_min = south.latitude\n",
    "lat_max = north.latitude\n",
    "lon_min = west.longitude\n",
    "lon_max = east.longitude\n",
    "\n",
    "print(f\"Bounding Box (50 NM):\\nLat: {lat_min:.4f} to {lat_max:.4f}\\nLon: {lon_min:.4f} to {lon_max:.4f}\")"
   ]
  },
  {
   "cell_type": "code",
   "execution_count": null,
   "id": "3fa51979",
   "metadata": {},
   "outputs": [],
   "source": [
    "test = opensky.history(\n",
    "    start=datetime(2025, 6, 23, 10, 0),\n",
    "    stop=datetime(2025, 6, 23, 10, 30),\n",
    "    bounds = (19.6139, 51.3334, 22.3203, 52.9978), # (west, south, east, north)\n",
    "    # bounds = eurofirs[\"EPWW\"].bounds\n",
    ")"
   ]
  },
  {
   "cell_type": "code",
   "execution_count": null,
   "id": "b91aa166",
   "metadata": {},
   "outputs": [],
   "source": [
    "test.map_leaflet()"
   ]
  },
  {
   "cell_type": "code",
   "execution_count": null,
   "id": "b069d5e0",
   "metadata": {},
   "outputs": [],
   "source": [
    "test.data.callsign.unique()"
   ]
  }
 ],
 "metadata": {
  "kernelspec": {
   "display_name": "Python 3 (ipykernel)",
   "language": "python",
   "name": "python3"
  }
 },
 "nbformat": 4,
 "nbformat_minor": 5
}
