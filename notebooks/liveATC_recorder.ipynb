{
 "cells": [
  {
   "cell_type": "markdown",
   "id": "6dc9248b",
   "metadata": {},
   "source": [
    "# Downlaod Live ATC"
   ]
  },
  {
   "cell_type": "markdown",
   "id": "1e4e8c75",
   "metadata": {},
   "source": [
    "Doesn't work yet (problem with ffmep)\n",
    "\n",
    "TODO: Retry later as ffmep has been installed in ~/.bashrc (source ~/.bashrc)"
   ]
  },
  {
   "cell_type": "code",
   "execution_count": null,
   "id": "4caee5c5",
   "metadata": {},
   "outputs": [],
   "source": [
    "import subprocess\n",
    "import datetime\n",
    "import os"
   ]
  },
  {
   "cell_type": "code",
   "execution_count": null,
   "id": "60fb6d8f",
   "metadata": {},
   "outputs": [],
   "source": [
    "# Stream URL from LiveATC.net (must be manually found or provided by LiveATC)\n",
    "stream_url = \"http://d.liveatc.net/epwa_app\"  # Example: Warsaw Approach\n",
    "\n",
    "# Set duration of recording in seconds\n",
    "duration = 60 * 5  # 5 minutes\n",
    "\n",
    "# Output filename\n",
    "timestamp = datetime.datetime.now().strftime(\"%Y%m%d_%H%M%S\")\n",
    "filename = f\"ksfo_twr_{timestamp}.mp3\"\n",
    "\n",
    "# Use ffmpeg to record stream\n",
    "subprocess.run([\n",
    "    \"ffmpeg\",\n",
    "    \"-i\", stream_url,\n",
    "    \"-t\", str(duration),\n",
    "    \"-acodec\", \"libmp3lame\",\n",
    "    filename\n",
    "])"
   ]
  },
  {
   "cell_type": "code",
   "execution_count": null,
   "id": "e7c34b5e",
   "metadata": {},
   "outputs": [],
   "source": [
    "ffmpeg_path = os.path.expanduser(\"/mnt/c/Users/kruu/tools/ffmpeg/ffmpeg\")\n",
    "stream_url = \"http://d.liveatc.net/epwa_app\"\n",
    "duration = 300  # seconds\n",
    "\n",
    "# Output file\n",
    "timestamp = datetime.datetime.now().strftime(\"%Y%m%d_%H%M%S\")\n",
    "output_file = f\"epwa_app_{timestamp}.mp3\"\n",
    "\n",
    "# Run recording\n",
    "subprocess.run([\n",
    "    ffmpeg_path,\n",
    "    \"-re\",\n",
    "    \"-i\", stream_url,\n",
    "    \"-t\", str(duration),\n",
    "    \"-acodec\", \"libmp3lame\",\n",
    "    output_file\n",
    "])"
   ]
  },
  {
   "cell_type": "markdown",
   "id": "f8925655",
   "metadata": {},
   "source": [
    "# Download Recordings"
   ]
  },
  {
   "cell_type": "code",
   "execution_count": null,
   "id": "eac460c1",
   "metadata": {},
   "outputs": [],
   "source": [
    "import os\n",
    "import re\n",
    "import requests\n",
    "import urllib.request\n",
    "from bs4 import BeautifulSoup\n",
    "import os\n",
    "from urllib.parse import urljoin\n",
    "from datetime import datetime, timedelta\n"
   ]
  },
  {
   "cell_type": "code",
   "execution_count": 2,
   "id": "4261e138",
   "metadata": {},
   "outputs": [],
   "source": [
    "def get_stations(icao):\n",
    "  page = requests.get(f'https://www.liveatc.net/search/?icao={icao}')\n",
    "  soup = BeautifulSoup(page.content, 'html.parser')\n",
    "\n",
    "  stations = soup.find_all('table', class_='body', border='0', padding=lambda x: x != '0')\n",
    "  freqs = soup.find_all('table', class_='freqTable', colspan='2')\n",
    "\n",
    "  for table, freqs in zip(stations, freqs):\n",
    "    title = table.find('strong').text\n",
    "    up = table.find('font').text == 'UP'\n",
    "    href = table.find('a', href=lambda x: x and x.startswith('/archive.php')).attrs['href']\n",
    "\n",
    "    identifier = re.findall(r'/archive.php\\?m=([a-zA-Z0-9_]+)', href)[0]\n",
    "\n",
    "    frequencies = []\n",
    "    rows = freqs.find_all('tr')[1:]\n",
    "    for row in rows:\n",
    "      cols = row.find_all('td')\n",
    "      freq_title = cols[0].text\n",
    "      freq_frequency = cols[1].text\n",
    "\n",
    "      frequencies.append({'title': freq_title, 'frequency': freq_frequency})\n",
    "      \n",
    "    yield {'identifier': identifier, 'title': title, 'frequencies': frequencies, 'up': up}\n"
   ]
  },
  {
   "cell_type": "code",
   "execution_count": 3,
   "id": "917e5b0f",
   "metadata": {},
   "outputs": [
    {
     "name": "stdout",
     "output_type": "stream",
     "text": [
      "[epwa_app] - EPWA Approach #1\n",
      "\tWarsaw Approach - 128.805\n",
      "[epwa_app2] - EPWA Approach #2\n",
      "\tWarsaw Approach - 125.055\n",
      "[epwa_gnd] - EPWA Ground\n",
      "\tWarsaw Ground - 121.900\n",
      "[epwa_twr2] - EPWA Tower\n",
      "\tWarsaw Tower - 118.300\n"
     ]
    }
   ],
   "source": [
    "stations = get_stations(\"epwa\")\n",
    "\n",
    "for station in stations:\n",
    "    print(f\"[{station['identifier']}] - {station['title']}\")\n",
    "\n",
    "    for freq in station['frequencies']:\n",
    "      print(f\"\\t{freq['title']} - {freq['frequency']}\")"
   ]
  },
  {
   "cell_type": "code",
   "execution_count": 43,
   "id": "8efed6b4",
   "metadata": {},
   "outputs": [],
   "source": [
    "def get_last_zulu_period(date, minutes=30):\n",
    "  return date - timedelta(minutes=minutes) - (date - datetime.min) % timedelta(minutes=minutes)"
   ]
  },
  {
   "cell_type": "code",
   "execution_count": 12,
   "id": "302eef26",
   "metadata": {},
   "outputs": [],
   "source": [
    "def download_archive(station, date, time, save_path):\n",
    "  page = requests.get(f'https://www.liveatc.net/archive.php?m={station}')\n",
    "  soup = BeautifulSoup(page.content, 'html.parser')\n",
    "  archive_identifer = soup.find('option', selected=True).attrs['value']\n",
    "\n",
    "  filename = f'{archive_identifer}-{date}-{time}.mp3'\n",
    "\n",
    "  path = f'/tmp/{filename}'\n",
    "  url = f'https://archive.liveatc.net/{station.split(\"_\")[0]}/{filename}'\n",
    "  print(url)\n",
    "  \n",
    "  # Use headers to simulate a browser\n",
    "  headers = {'User-Agent': 'Mozilla/5.0'}\n",
    "  \n",
    "  # Download with requests\n",
    "  response = requests.get(url, headers=headers, stream=True)\n",
    "  \n",
    "  # Check if the file exists (200 OK)\n",
    "  if response.status_code == 200:\n",
    "      os.makedirs(save_path, exist_ok=True)\n",
    "      path = os.path.join(save_path, filename)\n",
    "      with open(path, 'wb') as f:\n",
    "          for chunk in response.iter_content(chunk_size=8192):\n",
    "              f.write(chunk)\n",
    "      print(\"Download successful:\", path)\n",
    "  else:\n",
    "      print(\"Download failed:\", response.status_code, response.reason)"
   ]
  },
  {
   "cell_type": "code",
   "execution_count": 13,
   "id": "ecb5665f",
   "metadata": {},
   "outputs": [
    {
     "name": "stdout",
     "output_type": "stream",
     "text": [
      "https://archive.liveatc.net/epwa/EPWA-App-Jun-15-2025-1000Z.mp3\n",
      "Download successful: data_EPWA/EPWA-App-Jun-15-2025-1000Z.mp3\n"
     ]
    }
   ],
   "source": [
    "download_archive('epwa_app', 'Jun-15-2025', '1000Z', \"data_EPWA\")"
   ]
  },
  {
   "cell_type": "code",
   "execution_count": null,
   "id": "88afcd80",
   "metadata": {},
   "outputs": [],
   "source": []
  }
 ],
 "metadata": {
  "kernelspec": {
   "display_name": "Python 3 (ipykernel)",
   "language": "python",
   "name": "python3"
  },
  "language_info": {
   "codemirror_mode": {
    "name": "ipython",
    "version": 3
   },
   "file_extension": ".py",
   "mimetype": "text/x-python",
   "name": "python",
   "nbconvert_exporter": "python",
   "pygments_lexer": "ipython3",
   "version": "3.12.5"
  }
 },
 "nbformat": 4,
 "nbformat_minor": 5
}
